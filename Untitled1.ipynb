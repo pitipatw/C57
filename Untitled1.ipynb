{
 "cells": [
  {
   "cell_type": "code",
   "execution_count": 1,
   "id": "ab483c1f-6428-4f38-8cb7-44984ad54ca2",
   "metadata": {},
   "outputs": [],
   "source": [
    "using JuMP"
   ]
  },
  {
   "cell_type": "code",
   "execution_count": 5,
   "id": "e48ea97d-5c14-4b8a-89b4-6b53cad70a92",
   "metadata": {},
   "outputs": [
    {
     "data": {
      "text/plain": [
       "A JuMP Model\n",
       "├ solver: none\n",
       "├ objective_sense: FEASIBILITY_SENSE\n",
       "├ num_variables: 0\n",
       "├ num_constraints: 0\n",
       "└ Names registered in the model: none"
      ]
     },
     "execution_count": 5,
     "metadata": {},
     "output_type": "execute_result"
    }
   ],
   "source": [
    "model =  Model()"
   ]
  },
  {
   "cell_type": "code",
   "execution_count": 6,
   "id": "e3297e88-cbb4-4c91-b57e-a3c6e106ba12",
   "metadata": {},
   "outputs": [
    {
     "ename": "LoadError",
     "evalue": "An object of name x is already attached to this model. If this\n    is intended, consider using the anonymous construction syntax, for example,\n    `x = @variable(model, [1:N], ...)` where the name of the object does\n    not appear inside the macro.\n\n    Alternatively, use `unregister(model, :x)` to first unregister\n    the existing name from the model. Note that this will not delete the\n    object; it will just remove the reference at `model[:x]`.\n",
     "output_type": "error",
     "traceback": [
      "An object of name x is already attached to this model. If this\n    is intended, consider using the anonymous construction syntax, for example,\n    `x = @variable(model, [1:N], ...)` where the name of the object does\n    not appear inside the macro.\n\n    Alternatively, use `unregister(model, :x)` to first unregister\n    the existing name from the model. Note that this will not delete the\n    object; it will just remove the reference at `model[:x]`.\n",
      "",
      "Stacktrace:",
      " [1] error(s::String)",
      "   @ Base ./error.jl:35",
      " [2] _error_if_cannot_register(model::Model, name::Symbol)",
      "   @ JuMP ~/.julia/packages/JuMP/PKxEW/src/macros.jl:411",
      " [3] macro expansion",
      "   @ ~/.julia/packages/JuMP/PKxEW/src/macros.jl:400 [inlined]",
      " [4] top-level scope",
      "   @ In[6]:2"
     ]
    }
   ],
   "source": [
    "@variable(model, x[1:50,1:15] ≥ 0); #decision to send waste from station i to landfill j or not?\n",
    "model.addVar("
   ]
  },
  {
   "cell_type": "code",
   "execution_count": null,
   "id": "d00a69f7-a623-4d3c-956c-bab4d2c6feff",
   "metadata": {},
   "outputs": [],
   "source": []
  }
 ],
 "metadata": {
  "kernelspec": {
   "display_name": "Julia 1.10.2",
   "language": "julia",
   "name": "julia-1.10"
  },
  "language_info": {
   "file_extension": ".jl",
   "mimetype": "application/julia",
   "name": "julia",
   "version": "1.10.2"
  }
 },
 "nbformat": 4,
 "nbformat_minor": 5
}
