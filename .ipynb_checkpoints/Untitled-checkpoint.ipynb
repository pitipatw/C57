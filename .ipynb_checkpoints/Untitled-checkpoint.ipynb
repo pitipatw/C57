{
 "cells": [
  {
   "cell_type": "code",
   "execution_count": 155,
   "id": "3b5843d8-07e4-4e76-ad86-af99eb28a9f9",
   "metadata": {},
   "outputs": [],
   "source": [
    "using JuMP \n",
    "using Gurobi"
   ]
  },
  {
   "cell_type": "code",
   "execution_count": 156,
   "id": "37a68d0e-211b-49e7-9e52-22bc223f2468",
   "metadata": {},
   "outputs": [
    {
     "name": "stdout",
     "output_type": "stream",
     "text": [
      "Set parameter Username\n",
      "Academic license - for non-commercial use only - expires 2025-09-06\n"
     ]
    }
   ],
   "source": [
    "model = Model(Gurobi.Optimizer); # Builds Gurobi model"
   ]
  },
  {
   "cell_type": "code",
   "execution_count": 157,
   "id": "64f08995-7af2-48c7-90b6-dfc3b85b6557",
   "metadata": {},
   "outputs": [
    {
     "data": {
      "text/latex": [
       "$ y3 $"
      ],
      "text/plain": [
       "y3"
      ]
     },
     "execution_count": 157,
     "metadata": {},
     "output_type": "execute_result"
    }
   ],
   "source": [
    "@variable(model, a  ≥ 0) \n",
    "@variable(model, b  ≥ 0)\n",
    "@variable(model, xq ≥ 0) \n",
    "@variable(model, xp ≥ 0) \n",
    "@variable(model, xr ≥ 0) \n",
    "@variable(model, y1 ≥ 0)\n",
    "@variable(model, y2 ≥ 0) \n",
    "@variable(model, y3 ≥ 0) "
   ]
  },
  {
   "cell_type": "code",
   "execution_count": 158,
   "id": "6b054969-99c1-4022-9d72-1f8c2feb0b97",
   "metadata": {},
   "outputs": [
    {
     "name": "stdout",
     "output_type": "stream",
     "text": [
      "Gurobi Optimizer version 11.0.2 build v11.0.2rc0 (mac64[arm] - Darwin 24.0.0 24A348)\n",
      "\n",
      "CPU model: Apple M2 Pro\n",
      "Thread count: 10 physical cores, 10 logical processors, using up to 10 threads\n",
      "\n",
      "Optimize a model with 9 rows, 8 columns and 18 nonzeros\n",
      "Model fingerprint: 0x30479153\n",
      "Coefficient statistics:\n",
      "  Matrix range     [1e+00, 1e+05]\n",
      "  Objective range  [2e+01, 1e+02]\n",
      "  Bounds range     [0e+00, 0e+00]\n",
      "  RHS range        [1e+00, 3e+00]\n",
      "Presolve removed 6 rows and 4 columns\n",
      "Presolve time: 0.00s\n",
      "Presolved: 3 rows, 4 columns, 8 nonzeros\n",
      "\n",
      "Iteration    Objective       Primal Inf.    Dual Inf.      Time\n",
      "       0    1.2000000e+02   1.000000e+00   0.000000e+00      0s\n",
      "       2    1.0000000e+02   0.000000e+00   0.000000e+00      0s\n",
      "\n",
      "Solved in 2 iterations and 0.00 seconds (0.00 work units)\n",
      "Optimal objective  1.000000000e+02\n",
      "\n",
      "User-callback calls 60, time in user-callback 0.00 sec\n"
     ]
    }
   ],
   "source": [
    "@constraint(model, c1, 2*xp + 100000*xq + 3*xr ≤ 3 ) \n",
    "@constraint(model, c2, y1 - xp      ≤ 0 ) \n",
    "@constraint(model, c3, y1 - xq      ≤ 0 )\n",
    "@constraint(model, c4, y3 - xp      ≤ 0) \n",
    "@constraint(model, c5, y2 - xr      ≤ 0 ) \n",
    "@constraint(model, c6, a -  y1 - y2 ≤ 0 ) \n",
    "@constraint(model, c7, b -  y3      ≤ 0 )\n",
    "@constraint(model, c8, a -  1       ≤ 0 )\n",
    "@constraint(model, c9, b -  1       ≤ 0 )\n",
    "\n",
    "@objective(model, Max, 1000*a + 20*b)\n",
    "optimize!(model); # Optimize model"
   ]
  },
  {
   "cell_type": "code",
   "execution_count": null,
   "id": "0bfb3df7-0be9-4279-a18b-ec9c77ff5eae",
   "metadata": {},
   "outputs": [],
   "source": []
  },
  {
   "cell_type": "code",
   "execution_count": 159,
   "id": "5ef20a59-97af-4871-bcbb-a9c6563e5868",
   "metadata": {},
   "outputs": [
    {
     "data": {
      "text/plain": [
       "* Solver : Gurobi\n",
       "\n",
       "* Status\n",
       "  Result count       : 1\n",
       "  Termination status : OPTIMAL\n",
       "  Message from the solver:\n",
       "  \"Model was solved to optimality (subject to tolerances), and an optimal solution is available.\"\n",
       "\n",
       "* Candidate solution (result #1)\n",
       "  Primal status      : FEASIBLE_POINT\n",
       "  Dual status        : FEASIBLE_POINT\n",
       "  Objective value    : 1.00000e+02\n",
       "  Objective bound    : 1.00000e+02\n",
       "  Dual objective value : 1.00000e+02\n",
       "  Primal solution :\n",
       "    a : 1.00000e+00\n",
       "    b : 0.00000e+00\n",
       "    xp : 0.00000e+00\n",
       "    xq : 0.00000e+00\n",
       "    xr : 1.00000e+00\n",
       "    y1 : 0.00000e+00\n",
       "    y2 : 1.00000e+00\n",
       "    y3 : 0.00000e+00\n",
       "  Dual solution :\n",
       "    c1 : -1.00000e+01\n",
       "    c2 : -0.00000e+00\n",
       "    c3 : -1.00000e+06\n",
       "    c4 : -2.00000e+01\n",
       "    c5 : -3.00000e+01\n",
       "    c6 : -3.00000e+01\n",
       "    c7 : -2.00000e+01\n",
       "    c8 : -7.00000e+01\n",
       "    c9 : -0.00000e+00\n",
       "\n",
       "* Work counters\n",
       "  Solve time (sec)   : 4.38213e-04\n",
       "  Barrier iterations : 0\n",
       "  Node count         : 0\n"
      ]
     },
     "execution_count": 159,
     "metadata": {},
     "output_type": "execute_result"
    }
   ],
   "source": [
    "solution_summary(model, verbose = true)\n"
   ]
  },
  {
   "cell_type": "code",
   "execution_count": 160,
   "id": "dc74b31b-3759-4aa0-84ae-cea504d9f9b6",
   "metadata": {},
   "outputs": [
    {
     "data": {
      "text/plain": [
       "9-element Vector{Float64}:\n",
       " 10.0\n",
       "  0.0\n",
       "  1.0e6\n",
       " 20.0\n",
       " 30.0\n",
       " 30.0\n",
       " 20.0\n",
       " 70.0\n",
       "  0.0"
      ]
     },
     "execution_count": 160,
     "metadata": {},
     "output_type": "execute_result"
    }
   ],
   "source": [
    "shadow_price.([c1,c2,c3,c4,c5,c6,c7,c8,c9])"
   ]
  },
  {
   "cell_type": "code",
   "execution_count": 161,
   "id": "03e7074d-1377-4b7f-ab20-b09654d02db2",
   "metadata": {},
   "outputs": [
    {
     "data": {
      "text/plain": [
       "100.0"
      ]
     },
     "execution_count": 161,
     "metadata": {},
     "output_type": "execute_result"
    }
   ],
   "source": [
    "objective_value(model)"
   ]
  },
  {
   "cell_type": "code",
   "execution_count": 162,
   "id": "4ade45c5-e2a5-47e1-9ee0-9f06a22b0dd1",
   "metadata": {},
   "outputs": [
    {
     "data": {
      "text/plain": [
       "100.0"
      ]
     },
     "execution_count": 162,
     "metadata": {},
     "output_type": "execute_result"
    }
   ],
   "source": [
    "dual_objective_value(model)"
   ]
  },
  {
   "cell_type": "code",
   "execution_count": 163,
   "id": "f97130cd-485d-4f8f-9c3c-6b523b823878",
   "metadata": {},
   "outputs": [
    {
     "data": {
      "text/plain": [
       "10.0"
      ]
     },
     "execution_count": 163,
     "metadata": {},
     "output_type": "execute_result"
    }
   ],
   "source": [
    "shadow_price(c1)"
   ]
  },
  {
   "cell_type": "code",
   "execution_count": null,
   "id": "9714b686-7bcb-40d7-ac3a-f406f6c091fe",
   "metadata": {},
   "outputs": [],
   "source": []
  }
 ],
 "metadata": {
  "kernelspec": {
   "display_name": "Julia 1.10.2",
   "language": "julia",
   "name": "julia-1.10"
  },
  "language_info": {
   "file_extension": ".jl",
   "mimetype": "application/julia",
   "name": "julia",
   "version": "1.10.2"
  }
 },
 "nbformat": 4,
 "nbformat_minor": 5
}
