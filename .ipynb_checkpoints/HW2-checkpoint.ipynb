{
 "cells": [
  {
   "cell_type": "markdown",
   "metadata": {},
   "source": [
    "# Cloud computing"
   ]
  },
  {
   "cell_type": "code",
   "execution_count": 1,
   "metadata": {},
   "outputs": [],
   "source": [
    "# Load required packages\n",
    "using CSV, DataFrames #Data packages\n",
    "using JuMP, Gurobi #Optimization packages\n",
    "using Makie, CairoMakie #Visualization packages\n",
    "Makie.inline!(true); #make sure it shows in the notebook"
   ]
  },
  {
   "cell_type": "markdown",
   "metadata": {},
   "source": [
    "## Part a: Please see the written document."
   ]
  },
  {
   "cell_type": "markdown",
   "metadata": {},
   "source": [
    "## Part b:"
   ]
  },
  {
   "cell_type": "markdown",
   "metadata": {},
   "source": [
    "Variable definitions:\n",
    "\n",
    "1. `energy::Matrix{Float64}` a 1000x20 matrix. `energy[i,j]` indicates the energy consumption for job `i` machine `j`.\n",
    "2. `capacity::Vector{Float64}` a 20 vector. `capacity[ij` indicates the capacity of machine `j`."
   ]
  },
  {
   "cell_type": "code",
   "execution_count": 2,
   "metadata": {},
   "outputs": [],
   "source": [
    "#Dataframe should be ok for now.\n",
    "energy = Matrix(CSV.read(\"HW2_data//energy.csv\", DataFrame)[:, 2:end]);\n",
    "capacity = Matrix(CSV.read(\"HW2_data//capacity.csv\", DataFrame)[:,2:end]);"
   ]
  },
  {
   "cell_type": "markdown",
   "metadata": {},
   "source": [
    "Inspect the loaded matrices"
   ]
  },
  {
   "cell_type": "code",
   "execution_count": 3,
   "metadata": {},
   "outputs": [
    {
     "name": "stdout",
     "output_type": "stream",
     "text": [
      "E: (1000, 20)\n",
      "C: (20, 1)\n"
     ]
    }
   ],
   "source": [
    "all_const = [energy, capacity];\n",
    "name_set = [\"energy\", \"capacity\"]\n",
    "for i in eachindex(all_const)\n",
    "    println(name_set[i],\": \" ,size(all_const[i]))\n",
    "end"
   ]
  },
  {
   "cell_type": "code",
   "execution_count": 4,
   "metadata": {},
   "outputs": [
    {
     "name": "stdout",
     "output_type": "stream",
     "text": [
      "Set parameter Username\n",
      "Academic license - for non-commercial use only - expires 2025-09-06\n"
     ]
    }
   ],
   "source": [
    "modelB1 = Model(Gurobi.Optimizer); # Builds Gurobi model\n",
    "\n",
    "# Define the variables\n",
    "@variable(modelB1, X1[1:1000, 1:20] ≥ 0, Bin);\n",
    "\n",
    "# Define the objective\n",
    "@objective(modelB1, Min, sum(energy.*X1));\n",
    "\n",
    "# Each job has to got assigned once.\n",
    "@constraint(modelB1, [i = 1:1000], sum(X1[i,:]) == 1);\n",
    "\n",
    "# Each machine can only handle limited number of jobs\n",
    "@constraint(modelB1, [j = 1:20], sum(X1[:,j]) ≤ capacity[j]);"
   ]
  },
  {
   "cell_type": "code",
   "execution_count": 5,
   "metadata": {},
   "outputs": [
    {
     "name": "stdout",
     "output_type": "stream",
     "text": [
      "Gurobi Optimizer version 11.0.2 build v11.0.2rc0 (mac64[arm] - Darwin 24.0.0 24A348)\n",
      "\n",
      "CPU model: Apple M2 Pro\n",
      "Thread count: 10 physical cores, 10 logical processors, using up to 10 threads\n",
      "\n",
      "Optimize a model with 1020 rows, 20000 columns and 40000 nonzeros\n",
      "Model fingerprint: 0x81f81880\n",
      "Variable types: 0 continuous, 20000 integer (20000 binary)\n",
      "Coefficient statistics:\n",
      "  Matrix range     [1e+00, 1e+00]\n",
      "  Objective range  [7e+00, 2e+02]\n",
      "  Bounds range     [0e+00, 0e+00]\n",
      "  RHS range        [1e+00, 1e+02]\n",
      "Found heuristic solution: objective 49453.678476\n",
      "Presolve time: 0.04s\n",
      "Presolved: 1020 rows, 20000 columns, 40000 nonzeros\n",
      "Variable types: 0 continuous, 20000 integer (20000 binary)\n",
      "\n",
      "Root relaxation: objective 4.141651e+04, 1369 iterations, 0.01 seconds (0.01 work units)\n",
      "\n",
      "    Nodes    |    Current Node    |     Objective Bounds      |     Work\n",
      " Expl Unexpl |  Obj  Depth IntInf | Incumbent    BestBd   Gap | It/Node Time\n",
      "\n",
      "*    0     0               0    41416.507432 41416.5074  0.00%     -    0s\n",
      "\n",
      "Explored 1 nodes (1369 simplex iterations) in 0.06 seconds (0.06 work units)\n",
      "Thread count was 10 (of 10 available processors)\n",
      "\n",
      "Solution count 2: 41416.5 49453.7 \n",
      "\n",
      "Optimal solution found (tolerance 1.00e-04)\n",
      "Best objective 4.141650743245e+04, best bound 4.141650743245e+04, gap 0.0000%\n",
      "\n",
      "User-callback calls 151, time in user-callback 0.00 sec\n",
      "is_solved_and_feasible(modelB1) = true\n"
     ]
    }
   ],
   "source": [
    "optimize!(modelB1); # Optimize model\n",
    "@show is_solved_and_feasible(modelB1);"
   ]
  },
  {
   "cell_type": "code",
   "execution_count": 6,
   "metadata": {},
   "outputs": [
    {
     "name": "stdout",
     "output_type": "stream",
     "text": [
      "b.(i) Optimal Energy Consumption: 41416.507432447295\n"
     ]
    }
   ],
   "source": [
    "println(\"b.(i) Optimal Energy Consumption: $(objective_value(modelB1))\")"
   ]
  },
  {
   "cell_type": "code",
   "execution_count": 7,
   "metadata": {
    "scrolled": true
   },
   "outputs": [
    {
     "name": "stdout",
     "output_type": "stream",
     "text": [
      "Set parameter Username\n",
      "Academic license - for non-commercial use only - expires 2025-09-06\n",
      "Gurobi Optimizer version 11.0.2 build v11.0.2rc0 (mac64[arm] - Darwin 24.0.0 24A348)\n",
      "\n",
      "CPU model: Apple M2 Pro\n",
      "Thread count: 10 physical cores, 10 logical processors, using up to 10 threads\n",
      "\n",
      "Optimize a model with 1000 rows, 20000 columns and 20000 nonzeros\n",
      "Model fingerprint: 0x6c40c129\n",
      "Variable types: 0 continuous, 20000 integer (20000 binary)\n",
      "Coefficient statistics:\n",
      "  Matrix range     [1e+00, 1e+00]\n",
      "  Objective range  [7e+00, 2e+02]\n",
      "  Bounds range     [0e+00, 0e+00]\n",
      "  RHS range        [1e+00, 1e+00]\n",
      "Found heuristic solution: objective 49898.787470\n",
      "Presolve removed 1000 rows and 20000 columns\n",
      "Presolve time: 0.01s\n",
      "Presolve: All rows and columns removed\n",
      "\n",
      "Explored 0 nodes (0 simplex iterations) in 0.01 seconds (0.01 work units)\n",
      "Thread count was 1 (of 10 available processors)\n",
      "\n",
      "Solution count 2: 40883.2 49898.8 \n",
      "\n",
      "Optimal solution found (tolerance 1.00e-04)\n",
      "Best objective 4.088316110700e+04, best bound 4.088316110700e+04, gap 0.0000%\n",
      "\n",
      "User-callback calls 176, time in user-callback 0.00 sec\n",
      "is_solved_and_feasible(modelB2) = true\n"
     ]
    }
   ],
   "source": [
    "# make a model where there is no capacity constraints\n",
    "modelB2 = Model(Gurobi.Optimizer); # Builds Gurobi model\n",
    "\n",
    "# Define the variables\n",
    "@variable(modelB2, X2[1:1000, 1:20] ≥ 0, Bin);\n",
    "\n",
    "# Define the objective\n",
    "@objective(modelB2, Min, sum(energy.*X2));\n",
    "\n",
    "# Each job has to got assigned once.\n",
    "@constraint(modelB2, [i = 1:1000], sum(X2[i,:]) == 1);\n",
    "\n",
    "optimize!(modelB2); # Optimize model\n",
    "@show is_solved_and_feasible(modelB2);"
   ]
  },
  {
   "cell_type": "code",
   "execution_count": 8,
   "metadata": {},
   "outputs": [
    {
     "name": "stdout",
     "output_type": "stream",
     "text": [
      "b.(ii) Optimal Energy Consumption: 40883.161107001426\n"
     ]
    }
   ],
   "source": [
    "println(\"b.(ii) Optimal Energy Consumption: $(objective_value(modelB2))\")"
   ]
  },
  {
   "cell_type": "code",
   "execution_count": 19,
   "metadata": {},
   "outputs": [
    {
     "name": "stdout",
     "output_type": "stream",
     "text": [
      "b.(iii)\n",
      "The number of jobs that are not (fully) assigned to their machines with the lowest energy consumption: 386.0\n",
      "[No limit case]The number of jobs that are not (fully) assigned to their machines with the lowest energy consumption: 0.0\n"
     ]
    }
   ],
   "source": [
    "assignment = value.(X1);\n",
    "a,b = findmin(energy, dims = 2);\n",
    "minimum_assigned = sum(assignment[b]);\n",
    "println(\"b.(iii)\")\n",
    "println(\"The number of jobs that are not (fully) assigned to their machines with the lowest energy consumption: $(1000-minimum_assigned)\")\n",
    "\n",
    "assignment2 = value.(X2);\n",
    "a,b = findmin(energy, dims = 2);\n",
    "minimum_assigned = sum(assignment2[b]);\n",
    "println(\"[No limit case]The number of jobs that are not (fully) assigned to their machines with the lowest energy consumption: $(1000-minimum_assigned)\")"
   ]
  },
  {
   "cell_type": "markdown",
   "metadata": {},
   "source": [
    "## Part c: Please see the written document.\n",
    "## Part d: Please see the written document."
   ]
  },
  {
   "cell_type": "markdown",
   "metadata": {},
   "source": [
    "## Part e:"
   ]
  },
  {
   "cell_type": "code",
   "execution_count": 21,
   "metadata": {},
   "outputs": [],
   "source": [
    "#Dataframe should be ok for now.\n",
    "utilization = Matrix(CSV.read(\"HW2_data//utilization.csv\", DataFrame)[:, 2:end]);\n",
    "maxutil = Matrix(CSV.read(\"HW2_data//maxutil.csv\", DataFrame)[:,2:end]);"
   ]
  },
  {
   "cell_type": "code",
   "execution_count": 22,
   "metadata": {},
   "outputs": [
    {
     "name": "stdout",
     "output_type": "stream",
     "text": [
      "utilization: (1000, 20)\n",
      "maxutil: (20, 1)\n"
     ]
    }
   ],
   "source": [
    "all_const = [utilization, maxutil];\n",
    "name_set = [\"utilization\", \"maxutil\"]\n",
    "for i in eachindex(all_const)\n",
    "    println(name_set[i],\": \" ,size(all_const[i]))\n",
    "end"
   ]
  },
  {
   "cell_type": "code",
   "execution_count": 27,
   "metadata": {},
   "outputs": [
    {
     "name": "stdout",
     "output_type": "stream",
     "text": [
      "Set parameter Username\n",
      "Academic license - for non-commercial use only - expires 2025-09-06\n"
     ]
    },
    {
     "ename": "LoadError",
     "evalue": "At In[27]:10: `@constraint(modelE1, [i = 1:1000], sum(X1[i, :]) == 1, name = \"c\")`: Unrecognized constraint building format. Tried to invoke `build_constraint(error, X1[1,1] + X1[1,2] + X1[1,3] + X1[1,4] + X1[1,5] + X1[1,6] + X1[1,7] + X1[1,8] + X1[1,9] + X1[1,10] + X1[1,11] + X1[1,12] + X1[1,13] + X1[1,14] + X1[1,15] + X1[1,16] + X1[1,17] + X1[1,18] + X1[1,19] + X1[1,20] - 1, MathOptInterface.EqualTo{Bool}(false); name = c)`, but no such method exists. This is due to specifying an unrecognized function, constraint set, and/or extra positional/keyword arguments.\n\nIf you're trying to create a JuMP extension, you need to implement `build_constraint` to accomodate these arguments.",
     "output_type": "error",
     "traceback": [
      "At In[27]:10: `@constraint(modelE1, [i = 1:1000], sum(X1[i, :]) == 1, name = \"c\")`: Unrecognized constraint building format. Tried to invoke `build_constraint(error, X1[1,1] + X1[1,2] + X1[1,3] + X1[1,4] + X1[1,5] + X1[1,6] + X1[1,7] + X1[1,8] + X1[1,9] + X1[1,10] + X1[1,11] + X1[1,12] + X1[1,13] + X1[1,14] + X1[1,15] + X1[1,16] + X1[1,17] + X1[1,18] + X1[1,19] + X1[1,20] - 1, MathOptInterface.EqualTo{Bool}(false); name = c)`, but no such method exists. This is due to specifying an unrecognized function, constraint set, and/or extra positional/keyword arguments.\n\nIf you're trying to create a JuMP extension, you need to implement `build_constraint` to accomodate these arguments.",
      "",
      "Stacktrace:",
      "  [1] error(::String, ::String)",
      "    @ Base ./error.jl:44",
      "  [2] (::JuMP.Containers.var\"#error_fn#98\"{String})(str::String)",
      "    @ JuMP.Containers ~/.julia/packages/JuMP/PKxEW/src/Containers/macro.jl:331",
      "  [3] build_constraint(::JuMP.Containers.var\"#error_fn#98\"{String}, ::AffExpr, ::MathOptInterface.EqualTo{Bool}; kwargs::@Kwargs{name::String})",
      "    @ JuMP ~/.julia/packages/JuMP/PKxEW/src/macros/@constraint.jl:984",
      "  [4] #build_constraint#93",
      "    @ ~/.julia/packages/JuMP/PKxEW/src/macros/@constraint.jl:950 [inlined]",
      "  [5] macro expansion",
      "    @ ~/.julia/packages/JuMP/PKxEW/src/macros/@constraint.jl:172 [inlined]",
      "  [6] (::var\"#25#26\"{Model})(i::Int64)",
      "    @ Main ~/.julia/packages/JuMP/PKxEW/src/Containers/macro.jl:545",
      "  [7] (::JuMP.Containers.var\"#84#85\"{var\"#25#26\"{Model}})(I::Tuple{Int64})",
      "    @ JuMP.Containers ~/.julia/packages/JuMP/PKxEW/src/Containers/container.jl:85",
      "  [8] iterate",
      "    @ ./generator.jl:47 [inlined]",
      "  [9] collect(itr::Base.Generator{JuMP.Containers.VectorizedProductIterator{Tuple{Base.OneTo{Int64}}}, JuMP.Containers.var\"#84#85\"{var\"#25#26\"{Model}}})",
      "    @ Base ./array.jl:834",
      " [10] map(f::Function, A::JuMP.Containers.VectorizedProductIterator{Tuple{Base.OneTo{Int64}}})",
      "    @ Base ./abstractarray.jl:3313",
      " [11] container",
      "    @ ~/.julia/packages/JuMP/PKxEW/src/Containers/container.jl:85 [inlined]",
      " [12] container",
      "    @ ~/.julia/packages/JuMP/PKxEW/src/Containers/container.jl:71 [inlined]",
      " [13] container(f::Function, indices::JuMP.Containers.VectorizedProductIterator{Tuple{Base.OneTo{Int64}}}, ::Type{JuMP.Containers.AutoContainerType}, names::Vector{Any})",
      "    @ JuMP.Containers ~/.julia/packages/JuMP/PKxEW/src/Containers/container.jl:75",
      " [14] macro expansion",
      "    @ ~/.julia/packages/JuMP/PKxEW/src/macros.jl:393 [inlined]",
      " [15] top-level scope",
      "    @ In[27]:10"
     ]
    }
   ],
   "source": [
    "modelE1 = Model(Gurobi.Optimizer); # Builds Gurobi model\n",
    "\n",
    "# Define the variables\n",
    "@variable(modelE1, 1 ≥ X1[1:1000, 1:20] ≥ 0);\n",
    "\n",
    "# Define the objective\n",
    "@objective(modelE1, Min, sum(energy.*X1));\n",
    "\n",
    "# Each job has to got assigned once.\n",
    "@constraint(modelE1, [i = 1:1000], sum(X1[i,:]) == 1);\n",
    "\n",
    "# Each machine can only handle limited number of jobs\n",
    "@constraint(modelE1, [j = 1:20], sum(X1[:,j]) ≤ maxutil[j]);\n",
    "\n",
    "optimize!(modelB2); # Optimize model\n",
    "@show is_solved_and_feasible(modelB2);"
   ]
  },
  {
   "cell_type": "code",
   "execution_count": null,
   "metadata": {},
   "outputs": [],
   "source": [
    "println(\"Optimal Energy Consumption: $(objective_value(model2))\")"
   ]
  },
  {
   "cell_type": "code",
   "execution_count": null,
   "metadata": {},
   "outputs": [],
   "source": []
  },
  {
   "cell_type": "markdown",
   "metadata": {},
   "source": [
    "Problem e"
   ]
  },
  {
   "cell_type": "code",
   "execution_count": null,
   "metadata": {},
   "outputs": [],
   "source": [
    "#load data\n",
    "U = CSV.read(\"HW2_data//utilization.csv\", DataFrame);\n",
    "M = CSV.read(\"HW2_data//maxutil.csv\", DataFrame);\n",
    "Umat = Matrix(U)[:,2:end];\n",
    "Mvec = Matrix(M)[:,2];"
   ]
  },
  {
   "cell_type": "code",
   "execution_count": null,
   "metadata": {},
   "outputs": [],
   "source": [
    "@show size(Umat);\n",
    "@show size(Mvec);"
   ]
  },
  {
   "cell_type": "code",
   "execution_count": null,
   "metadata": {},
   "outputs": [],
   "source": [
    "model3 = Model(Gurobi.Optimizer); # Builds Gurobi model\n",
    "\n",
    "@variable(model3, 0 .≤ X[1:1000, 1:20] .≤ 1); # Adds decision variables \n",
    "@objective(model3, Min, sum(Emat.*X)) # Setting objective\n",
    "@constraint(model3, cc1[c1 = 1:1000], sum(X[c1,:]) .== 1)\n",
    "@constraint(model3, cc2[c2 = 1:20], Umat[:,c2].*X[:,c2] .≤ Mvec[c2])\n",
    "optimize!(model3)\n"
   ]
  },
  {
   "cell_type": "code",
   "execution_count": null,
   "metadata": {},
   "outputs": [],
   "source": [
    "is_solved_and_feasible(model3)"
   ]
  },
  {
   "cell_type": "code",
   "execution_count": null,
   "metadata": {},
   "outputs": [],
   "source": [
    "dual.(cc1)"
   ]
  },
  {
   "cell_type": "code",
   "execution_count": null,
   "metadata": {},
   "outputs": [],
   "source": [
    "dual.(cc2)"
   ]
  },
  {
   "cell_type": "code",
   "execution_count": null,
   "metadata": {},
   "outputs": [],
   "source": [
    "println(\"Optimal Energy Consumption: $(objective_value(model3))\")"
   ]
  },
  {
   "cell_type": "code",
   "execution_count": null,
   "metadata": {},
   "outputs": [],
   "source": [
    "assignment = value.(X)\n",
    "minimum(Emat,dims = 2)\n",
    "a,b = findmin(Emat, dims = 2)\n",
    "sum(assignment[b])"
   ]
  },
  {
   "cell_type": "code",
   "execution_count": null,
   "metadata": {},
   "outputs": [],
   "source": [
    "has_duals(model2)"
   ]
  },
  {
   "cell_type": "code",
   "execution_count": null,
   "metadata": {},
   "outputs": [],
   "source": []
  },
  {
   "cell_type": "code",
   "execution_count": null,
   "metadata": {},
   "outputs": [],
   "source": [
    "model4 = Model(Gurobi.Optimizer); # Builds Gurobi model\n",
    "\n",
    "@variable(model4, 1 ≥ X[1:1000, 1:20] ≥ 0); # Adds decision variables \n",
    "@objective(model4, Min, sum(Emat.*X)) # Setting objective\n",
    "@constraint(model4, [c1 = 1:1000], sum(X[c1,:]) .== 1)\n",
    "# @constraint(model4, [c2 = 1:20], sum(Mvec[c2].*X[:,c2]) ≤ Umat[c2])\n",
    "optimize!(model4)\n"
   ]
  },
  {
   "cell_type": "code",
   "execution_count": null,
   "metadata": {},
   "outputs": [],
   "source": [
    "assignment = value.(X)\n",
    "minimum(Emat,dims = 2)\n",
    "a,b = findmin(Emat, dims = 2)\n",
    "sum(assignment[b])"
   ]
  },
  {
   "cell_type": "markdown",
   "metadata": {},
   "source": [
    "Plotting"
   ]
  },
  {
   "cell_type": "code",
   "execution_count": null,
   "metadata": {
    "scrolled": true
   },
   "outputs": [],
   "source": [
    "f1 = Figure(size = (250,250))\n",
    "ax1 = Axis(f1[1,1], title = \"problem (f)\",  \n",
    "xlabel = \"Machine utilization\", ylabel = \"Maximum machine utilization\")\n",
    "@show x = sum(value.(X), dims = 1)[:]\n",
    "scatter!(ax1, x, Mvec )\n",
    "display(f1)"
   ]
  },
  {
   "cell_type": "code",
   "execution_count": null,
   "metadata": {},
   "outputs": [],
   "source": [
    "dual(c1)"
   ]
  },
  {
   "cell_type": "code",
   "execution_count": null,
   "metadata": {},
   "outputs": [],
   "source": []
  }
 ],
 "metadata": {
  "kernelspec": {
   "display_name": "Julia 1.10.2",
   "language": "julia",
   "name": "julia-1.10"
  },
  "language_info": {
   "file_extension": ".jl",
   "mimetype": "application/julia",
   "name": "julia",
   "version": "1.10.2"
  }
 },
 "nbformat": 4,
 "nbformat_minor": 4
}
