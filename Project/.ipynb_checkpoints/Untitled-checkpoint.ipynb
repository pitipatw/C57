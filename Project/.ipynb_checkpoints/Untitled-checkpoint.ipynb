{
 "cells": [
  {
   "cell_type": "code",
   "execution_count": 2,
   "id": "f34d466b-b6be-4f57-a920-c2a78bb2977b",
   "metadata": {},
   "outputs": [
    {
     "data": {
      "text/plain": [
       "Bonobo"
      ]
     },
     "execution_count": 2,
     "metadata": {},
     "output_type": "execute_result"
    }
   ],
   "source": [
    "using JuMP, Bonobo, Gurobi\n",
    "const BB = Bonobo"
   ]
  },
  {
   "cell_type": "code",
   "execution_count": 3,
   "id": "815b0991-a675-430c-825e-ccff3264d659",
   "metadata": {},
   "outputs": [],
   "source": [
    "mutable struct MIPNode <: AbstractNode\n",
    "    std ::BnBNodeInfo\n",
    "    lbs ::Vector{Float64}\n",
    "    ubs ::Vector{Float64}\n",
    "    status ::MOI.TerminationStatusCode\n",
    "end\n",
    "\n",
    "mutable struct C57Node <: AbstractNode \n",
    "    std::BnBNodeInfo \n",
    "    lb::Float64\n",
    "    ub::Float64\n",
    "    isLeft::Bool\n",
    "    depth::Int64 \n",
    "    finishedChilden::Int64\n",
    "end"
   ]
  },
  {
   "cell_type": "code",
   "execution_count": null,
   "id": "b3483688-3f90-4078-9a67-494a0a3490b5",
   "metadata": {},
   "outputs": [],
   "source": [
    "#DFS implementation.\n",
    "\n",
    "function BB.get_next_node(tree::BnBTree, ::DFS)\n",
    "    node_id, _ = peek(tree.node_queue)\n",
    "    return tree.nodes[node_id]\n",
    "end\n",
    "\n",
    "\"\"\"\n",
    "    C57_create_node(Node, node_id::Int, parent::Union{AbstractNode, Nothing}, node_info::NamedTuple)\n",
    "\n",
    "Creates a node of type `Node` with id `node_id` and the named tuple `node_info`. \n",
    "For information on that see [`set_root!`](@ref).\n",
    "\"\"\"\n",
    "function create_node(Node, node_id::Int, parent::Union{AbstractNode, Nothing}, node_info::NamedTuple)\n",
    "    lb = -Inf\n",
    "    if !isnothing(parent)\n",
    "        lb = parent.lb\n",
    "    end\n",
    "    bnb_node = structfromnt(BnBNodeInfo, (id = node_id, lb = lb, ub = Inf)) #<<<<<<\n",
    "    bnb_nt = (std = bnb_node,)\n",
    "    node_nt = merge(bnb_nt, node_info)\n",
    "    return structfromnt(Node, node_nt)\n",
    "end\n",
    "\n",
    "\"\"\"\n",
    "    C57_add_node!(tree::BnBTree{Node}, parent::Union{AbstractNode, Nothing}, node_info::NamedTuple)\n",
    "\n",
    "Add a new node to the tree using the `node_info`. For information on that see [`set_root!`](@ref).\n",
    "\"\"\"\n",
    "function BB.add_node!(tree::BnBTree{Node}, parent::Union{AbstractNode, Nothing}, node_info::NamedTuple) where Node <: C57Node\n",
    "    node_id = tree.num_nodes + 1\n",
    "    node = create_node(Node, node_id, parent, node_info)\n",
    "    # only add the node if it's better than the current best solution\n",
    "    if node.lb < tree.incumbent\n",
    "        tree.nodes[node_id] = node\n",
    "        tree.node_queue[node_id] = (node.lb, node_id)\n",
    "        tree.num_nodes += 1\n",
    "    end\n",
    "end\n",
    "\n"
   ]
  },
  {
   "cell_type": "code",
   "execution_count": 21,
   "id": "ab326c62-f48a-473e-a200-b8ea1ca81ffe",
   "metadata": {},
   "outputs": [
    {
     "data": {
      "text/plain": [
       "0.1"
      ]
     },
     "execution_count": 21,
     "metadata": {},
     "output_type": "execute_result"
    }
   ],
   "source": [
    "true/10"
   ]
  },
  {
   "cell_type": "code",
   "execution_count": 4,
   "id": "f7a71aeb-5ec4-4002-8ab4-5b97182f5d54",
   "metadata": {},
   "outputs": [
    {
     "name": "stdout",
     "output_type": "stream",
     "text": [
      "Set parameter Username\n",
      "Academic license - for non-commercial use only - expires 2025-09-06\n"
     ]
    },
    {
     "data": {
      "text/latex": [
       "$ xe_{1} + 1.2 xe_{2} + 3.2 xe_{3} $"
      ],
      "text/plain": [
       "xe[1] + 1.2 xe[2] + 3.2 xe[3]"
      ]
     },
     "execution_count": 4,
     "metadata": {},
     "output_type": "execute_result"
    }
   ],
   "source": [
    "m = Model(Gurobi.Optimizer)\n",
    "@variable(m, xe[1:3] >= 0)\n",
    "@constraint(m, 0.5xe[1]+3.1xe[2]+4.2xe[3] <= 6.1)   \n",
    "@constraint(m, 1.9xe[1]+0.7xe[2]+0.2xe[3] <= 8.1)   \n",
    "@constraint(m, 2.9xe[1]-2.3xe[2]+4.2xe[3] <= 10.5)   \n",
    "@objective(m, Max, xe[1]+1.2xe[2]+3.2xe[3])"
   ]
  },
  {
   "cell_type": "code",
   "execution_count": 6,
   "id": "278e787d-7067-471f-86fa-adc48fe84e4a",
   "metadata": {},
   "outputs": [
    {
     "data": {
      "text/plain": [
       "3-element Vector{VariableRef}:\n",
       " xe[1]\n",
       " xe[2]\n",
       " xe[3]"
      ]
     },
     "execution_count": 6,
     "metadata": {},
     "output_type": "execute_result"
    }
   ],
   "source": [
    "m[:xe]"
   ]
  },
  {
   "cell_type": "code",
   "execution_count": 14,
   "id": "f11e1d55-11b2-4925-8b11-20483a3ebefd",
   "metadata": {},
   "outputs": [],
   "source": [
    "function BB.get_branching_indices(m::Model) \n",
    "    return 1:size(m[:xe],1)\n",
    "end"
   ]
  },
  {
   "cell_type": "code",
   "execution_count": 16,
   "id": "fe15ec2a-08b7-4c6c-a799-fdebe18aabde",
   "metadata": {},
   "outputs": [
    {
     "data": {
      "text/plain": [
       "BnBTree{Bonobo.DefaultNode, Model, Vector{Float64}, Bonobo.DefaultSolution{Bonobo.DefaultNode, Vector{Float64}}}(Inf, nothing, -Inf, Bonobo.DefaultSolution{Bonobo.DefaultNode, Vector{Float64}}[], DataStructures.PriorityQueue{Int64, Tuple{Float64, Int64}, Base.Order.ForwardOrdering}(), Dict{Int64, Bonobo.DefaultNode}(), A JuMP Model\n",
       "├ solver: Gurobi\n",
       "├ objective_sense: MAX_SENSE\n",
       "│ └ objective_function_type: AffExpr\n",
       "├ num_variables: 3\n",
       "├ num_constraints: 6\n",
       "│ ├ AffExpr in MOI.LessThan{Float64}: 3\n",
       "│ └ VariableRef in MOI.GreaterThan{Float64}: 3\n",
       "└ Names registered in the model\n",
       "  └ :xe, [1, 2, 3], 0, :Max, Bonobo.Options(Bonobo.BestFirstSearch(), Bonobo.FIRST(), 1.0e-6, 1.0e-6, 1.0e-5, 1.0e-5))"
      ]
     },
     "execution_count": 16,
     "metadata": {},
     "output_type": "execute_result"
    }
   ],
   "source": [
    "bnb_model = BB.initialize(;\n",
    "    branch_strategy = BB.MOST_INFEASIBLE,\n",
    "    Node = MIPNode,\n",
    "    root = m,\n",
    "    sense = objective_sense(m) == MOI.MAX_SENSE ? :Max : :Min\n",
    ")"
   ]
  },
  {
   "cell_type": "code",
   "execution_count": 19,
   "id": "88829b22-3884-40af-a11f-1e18362b155b",
   "metadata": {},
   "outputs": [
    {
     "data": {
      "text/plain": [
       "3-element Vector{VariableRef}:\n",
       " xe[1]\n",
       " xe[2]\n",
       " xe[3]"
      ]
     },
     "execution_count": 19,
     "metadata": {},
     "output_type": "execute_result"
    }
   ],
   "source": [
    "xe"
   ]
  },
  {
   "cell_type": "code",
   "execution_count": 20,
   "id": "421bfc68-d8d6-4d5a-bbcf-cfde899693b0",
   "metadata": {},
   "outputs": [
    {
     "ename": "LoadError",
     "evalue": "fields in (Bonobo.DefaultNode) do not match ((std = BnBNodeInfo(1, -Inf, Inf), lbs = [0.0, 0.0, 0.0], ubs = [Inf, Inf, Inf], status = MathOptInterface.OPTIMIZE_NOT_CALLED))",
     "output_type": "error",
     "traceback": [
      "fields in (Bonobo.DefaultNode) do not match ((std = BnBNodeInfo(1, -Inf, Inf), lbs = [0.0, 0.0, 0.0], ubs = [Inf, Inf, Inf], status = MathOptInterface.OPTIMIZE_NOT_CALLED))",
      "",
      "Stacktrace:",
      " [1] structfromnt(::Type{Bonobo.DefaultNode}, x::@NamedTuple{std::BnBNodeInfo, lbs::Vector{Float64}, ubs::Vector{Float64}, status::MathOptInterface.TerminationStatusCode})",
      "   @ NamedTupleTools ~/.julia/packages/NamedTupleTools/7MQH4/src/NamedTupleTools.jl:116",
      " [2] create_node(Node::Type, node_id::Int64, parent::Nothing, node_info::@NamedTuple{lbs::Vector{Float64}, ubs::Vector{Float64}, status::MathOptInterface.TerminationStatusCode})",
      "   @ Bonobo ~/.julia/packages/Bonobo/xLqSz/src/node.jl:62",
      " [3] add_node!(tree::BnBTree{Bonobo.DefaultNode, Model, Vector{Float64}, Bonobo.DefaultSolution{Bonobo.DefaultNode, Vector{Float64}}}, parent::Nothing, node_info::@NamedTuple{lbs::Vector{Float64}, ubs::Vector{Float64}, status::MathOptInterface.TerminationStatusCode})",
      "   @ Bonobo ~/.julia/packages/Bonobo/xLqSz/src/node.jl:39",
      " [4] set_root!(tree::BnBTree{Bonobo.DefaultNode, Model, Vector{Float64}, Bonobo.DefaultSolution{Bonobo.DefaultNode, Vector{Float64}}}, node_info::@NamedTuple{lbs::Vector{Float64}, ubs::Vector{Float64}, status::MathOptInterface.TerminationStatusCode})",
      "   @ Bonobo ~/.julia/packages/Bonobo/xLqSz/src/node.jl:29",
      " [5] top-level scope",
      "   @ In[20]:1"
     ]
    }
   ],
   "source": [
    "BB.set_root!(bnb_model, (\n",
    "    lbs = zeros(length(xe)),\n",
    "    ubs = fill(Inf, length(xe)),\n",
    "    status = MOI.OPTIMIZE_NOT_CALLED\n",
    "))"
   ]
  },
  {
   "cell_type": "markdown",
   "id": "e98b9868-6b1c-4f0b-9d38-dc2155c4cb88",
   "metadata": {},
   "source": [
    "# n"
   ]
  }
 ],
 "metadata": {
  "kernelspec": {
   "display_name": "Julia 1.10.2",
   "language": "julia",
   "name": "julia-1.10"
  },
  "language_info": {
   "file_extension": ".jl",
   "mimetype": "application/julia",
   "name": "julia",
   "version": "1.10.2"
  }
 },
 "nbformat": 4,
 "nbformat_minor": 5
}
